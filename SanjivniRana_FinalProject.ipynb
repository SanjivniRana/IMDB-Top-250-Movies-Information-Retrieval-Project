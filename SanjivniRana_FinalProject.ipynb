{
  "cells": [
    {
      "cell_type": "markdown",
      "metadata": {
        "id": "ea_uWceCFxpJ"
      },
      "source": [
        "# **INSY-5336 PYTHON FINAL PROJECT**\n",
        "**Submitted By: Sanjivni Rana (1001820277)**\n",
        "\n",
        "\n",
        "\n"
      ]
    },
    {
      "cell_type": "markdown",
      "source": [
        "The code below uses bs4: BeautifulSoup library for web scraping. We have taken the url of IMDB's Top 250 Movies, specified headers and page which are important inputs for the Beautiful Soup library. We then create an object soup and find the movie details using its functions find(), find_all(), get(), etc.\n",
        "From the url we scrape the links of all Top 250 movies using the soup object and its functions and store it in a list called movie_links.\n",
        "\n"
      ],
      "metadata": {
        "id": "1M4y717FzUAG"
      }
    },
    {
      "cell_type": "code",
      "execution_count": null,
      "metadata": {
        "id": "95HAmWZWLDtu"
      },
      "outputs": [],
      "source": [
        "#importing all necessary libraries for web scraping\n",
        "import requests\n",
        "from bs4 import BeautifulSoup\n",
        "import urllib.request, urllib.parse, urllib.error\n",
        "\n",
        "#defining all necesary parameters to pass to beautiful soup's object\n",
        "url = 'https://www.imdb.com/chart/top/?ref_=nv_mv_250'\n",
        "headers = {'User-Agent': 'Mozilla/5.0 (Macintosh; Intel Mac OS X 10_13_6) AppleWebKit/537.36 (KHTML, like Gecko) Chrome/70.0.3538.77 Safari/537.36'}\n",
        "page = requests.get(url, headers = headers)\n",
        "soup = BeautifulSoup(page.content, \"html.parser\")\n",
        "movies = soup.find_all('td', class_ = 'titleColumn')\n",
        "\n",
        "#creating a list to store all the movie links for further information scraping\n",
        "movie_links = []\n",
        "for i in movies:\n",
        "    hyperlink = i.find('a')\n",
        "    url = hyperlink.get('href')\n",
        "    url = 'https://www.imdb.com' +url\n",
        "    movie_links.append(url)"
      ]
    },
    {
      "cell_type": "markdown",
      "source": [
        "Then we iterate through each movie link in the movie_links list and for each movie we find its title (using find h1) and similarly other information like director'name, bio, dob, place of birth and movie genres.\n",
        "As seen in the code, sepearate dictionaries, sub dictionaries are instantiated to store the information scraped. dir_subDict stores directors bio, dob and place as key-value pair which is then stores as the value into dirDict with director's name as the key.\n",
        "Similarly genres list stores all the genres of a movie. sub_dic stores the director's name as the key and genres list as the value which is then stored as a value in movie_dic with movie's name as the key.\n",
        "All the data is scraped using for-loops and soup object and its functions and stored in the dict and sub-dict. Finally at the end of each iteration movie_dic is appended to the all_movies list. This list is printed at the end to see all 250 movie's titles and their director and genres.\n"
      ],
      "metadata": {
        "id": "E345esq-9Aur"
      }
    },
    {
      "cell_type": "code",
      "execution_count": null,
      "metadata": {
        "colab": {
          "base_uri": "https://localhost:8080/"
        },
        "id": "N4h6_E7hLINN",
        "outputId": "66c8dd9a-60cc-4611-df5b-a10fa2d50664"
      },
      "outputs": [
        {
          "output_type": "stream",
          "name": "stdout",
          "text": [
            "[{'The Shawshank Redemption': {'Frank Darabont': ['Drama']}}, {'The Godfather': {'Francis Ford Coppola': ['Crime', 'Drama']}}, {'The Dark Knight': {'Christopher Nolan': ['Action', 'Crime', 'Drama']}}, {'The Godfather: Part II': {'Francis Ford Coppola': ['Crime', 'Drama']}}, {'12 Angry Men': {'Sidney Lumet': ['Crime', 'Drama']}}, {\"Schindler's List\": {'Steven Spielberg': ['Biography', 'Drama', 'History']}}, {'The Lord of the Rings: The Return of the King': {'Peter Jackson': ['Action', 'Adventure', 'Drama']}}, {'Pulp Fiction': {'Quentin Tarantino': ['Crime', 'Drama']}}, {'The Lord of the Rings: The Fellowship of the Ring': {'Peter Jackson': ['Action', 'Adventure', 'Drama']}}, {'The Good, the Bad and the Ugly': {'Sergio Leone': ['Adventure', 'Western']}}, {'Forrest Gump': {'Robert Zemeckis': ['Drama', 'Romance']}}, {'Fight Club': {'David Fincher': ['Drama']}}, {'Inception': {'Christopher Nolan': ['Action', 'Adventure', 'Sci-Fi']}}, {'The Lord of the Rings: The Two Towers': {'Peter Jackson': ['Action', 'Adventure', 'Drama']}}, {'Star Wars: Episode V - The Empire Strikes Back': {'Irvin Kershner': ['Action', 'Adventure', 'Fantasy']}}, {'The Matrix': {'Lana Wachowski': ['Action', 'Sci-Fi'], 'Lilly Wachowski': ['Action', 'Sci-Fi']}}, {'Goodfellas': {'Martin Scorsese': ['Biography', 'Crime', 'Drama']}}, {\"One Flew Over the Cuckoo's Nest\": {'Milos Forman': ['Drama']}}, {'Se7en': {'David Fincher': ['Crime', 'Drama', 'Mystery']}}, {'Seven Samurai': {'Akira Kurosawa': ['Action', 'Drama']}}, {\"It's a Wonderful Life\": {'Frank Capra': ['Drama', 'Family', 'Fantasy']}}, {'The Silence of the Lambs': {'Jonathan Demme': ['Crime', 'Drama', 'Thriller']}}, {'City of God': {'Fernando Meirelles': ['Crime', 'Drama'], 'Kátia Lund': ['Crime', 'Drama']}}, {'Saving Private Ryan': {'Steven Spielberg': ['Drama', 'War']}}, {'Life Is Beautiful': {'Roberto Benigni': ['Comedy', 'Drama', 'Romance']}}, {'The Green Mile': {'Frank Darabont': ['Crime', 'Drama', 'Fantasy']}}, {'Star Wars': {'George Lucas': ['Action', 'Adventure', 'Fantasy']}}, {'Interstellar': {'Christopher Nolan': ['Adventure', 'Drama', 'Sci-Fi']}}, {'Terminator 2: Judgment Day': {'James Cameron': ['Action', 'Sci-Fi']}}, {'Back to the Future': {'Robert Zemeckis': ['Adventure', 'Comedy', 'Sci-Fi']}}, {'Spirited Away': {'Hayao Miyazaki': ['Animation', 'Adventure', 'Family']}}, {'Psycho': {'Alfred Hitchcock': ['Horror', 'Mystery', 'Thriller']}}, {'The Pianist': {'Roman Polanski': ['Biography', 'Drama', 'Music']}}, {'Léon: The Professional': {'Luc Besson': ['Action', 'Crime', 'Drama']}}, {'Parasite': {'Bong Joon Ho': ['Comedy', 'Drama', 'Thriller']}}, {'The Lion King': {'Roger Allers': ['Animation', 'Adventure', 'Drama'], 'Rob Minkoff': ['Animation', 'Adventure', 'Drama']}}, {'American History X': {'Tony Kaye': ['Drama']}}, {'Gladiator': {'Ridley Scott': ['Action', 'Adventure', 'Drama']}}, {'The Usual Suspects': {'Bryan Singer': ['Crime', 'Drama', 'Mystery']}}, {'The Departed': {'Martin Scorsese': ['Crime', 'Drama', 'Thriller']}}, {'The Prestige': {'Christopher Nolan': ['Drama', 'Mystery', 'Thriller']}}, {'Casablanca': {'Michael Curtiz': ['Drama', 'Romance', 'War']}}, {'Whiplash': {'Damien Chazelle': ['Drama', 'Music']}}, {'The Intouchables': {'Olivier Nakache': ['Biography', 'Comedy', 'Drama'], 'Éric Toledano': ['Biography', 'Comedy', 'Drama']}}, {'Modern Times': {'Charles Chaplin': ['Comedy', 'Drama', 'Romance']}}, {'Hara-Kiri': {'Masaki Kobayashi': ['Action', 'Drama', 'Mystery']}}, {'Once Upon a Time in the West': {'Sergio Leone': ['Western']}}, {'Grave of the Fireflies': {'Isao Takahata': ['Animation', 'Drama', 'War']}}, {'Rear Window': {'Alfred Hitchcock': ['Mystery', 'Thriller']}}, {'Alien': {'Ridley Scott': ['Horror', 'Sci-Fi']}}, {'City Lights': {'Charles Chaplin': ['Comedy', 'Drama', 'Romance']}}, {'Cinema Paradiso': {'Giuseppe Tornatore': ['Drama', 'Romance']}}, {'Memento': {'Christopher Nolan': ['Mystery', 'Thriller']}}, {'Apocalypse Now': {'Francis Ford Coppola': ['Drama', 'Mystery', 'War']}}, {'Everything Everywhere All at Once': {'Dan Kwan': ['Action', 'Adventure', 'Comedy'], 'Daniel Scheinert': ['Action', 'Adventure', 'Comedy']}}, {'Indiana Jones and the Raiders of the Lost Ark': {'Steven Spielberg': ['Action', 'Adventure']}}, {'Django Unchained': {'Quentin Tarantino': ['Drama', 'Western']}}, {'WALL·E': {'Andrew Stanton': ['Animation', 'Adventure', 'Family']}}, {'The Lives of Others': {'Florian Henckel von Donnersmarck': ['Drama', 'Mystery', 'Thriller']}}, {'Sunset Blvd.': {'Billy Wilder': ['Drama', 'Film-Noir']}}, {'Paths of Glory': {'Stanley Kubrick': ['Drama', 'War']}}, {'The Shining': {'Stanley Kubrick': ['Drama', 'Horror']}}, {'The Great Dictator': {'Charles Chaplin': ['Comedy', 'Drama', 'War']}}, {'Witness for the Prosecution': {'Billy Wilder': ['Crime', 'Drama', 'Mystery']}}, {'Avengers: Infinity War': {'Anthony Russo': ['Action', 'Adventure', 'Sci-Fi'], 'Joe Russo': ['Action', 'Adventure', 'Sci-Fi']}}, {'Aliens': {'James Cameron': ['Action', 'Adventure', 'Sci-Fi']}}, {'American Beauty': {'Sam Mendes': ['Drama']}}, {'Dr. Strangelove or: How I Learned to Stop Worrying and Love the Bomb': {'Stanley Kubrick': ['Comedy', 'War']}}, {'The Dark Knight Rises': {'Christopher Nolan': ['Action', 'Crime', 'Drama']}}, {'Spider-Man: Into the Spider-Verse': {'Bob Persichetti': ['Animation', 'Action', 'Adventure'], 'Peter Ramsey': ['Animation', 'Action', 'Adventure'], 'Rodney Rothman': ['Animation', 'Action', 'Adventure']}}, {'Joker': {'Todd Phillips': ['Crime', 'Drama', 'Thriller']}}, {'Oldboy': {'Park Chan-wook': ['Action', 'Drama', 'Mystery']}}, {'Braveheart': {'Mel Gibson': ['Biography', 'Drama', 'History']}}, {'Amadeus': {'Milos Forman': ['Biography', 'Drama', 'Music']}}, {'Toy Story': {'John Lasseter': ['Animation', 'Adventure', 'Comedy']}}, {'The Boat': {'Wolfgang Petersen': ['Drama', 'War']}}, {'Coco': {'Lee Unkrich': ['Animation', 'Adventure', 'Comedy'], 'Adrian Molina': ['Animation', 'Adventure', 'Comedy']}}, {'Inglourious Basterds': {'Quentin Tarantino': ['Adventure', 'Drama', 'War']}}, {'Princess Mononoke': {'Hayao Miyazaki': ['Animation', 'Action', 'Adventure']}}, {'Once Upon a Time in America': {'Sergio Leone': ['Crime', 'Drama']}}, {'Avengers: Endgame': {'Anthony Russo': ['Action', 'Adventure', 'Drama'], 'Joe Russo': ['Action', 'Adventure', 'Drama']}}, {'Good Will Hunting': {'Gus Van Sant': ['Drama', 'Romance']}}, {'Requiem for a Dream': {'Darren Aronofsky': ['Drama']}}, {'Toy Story 3': {'Lee Unkrich': ['Animation', 'Adventure', 'Comedy']}}, {\"Singin' in the Rain\": {'Stanley Donen': ['Comedy', 'Musical', 'Romance'], 'Gene Kelly': ['Comedy', 'Musical', 'Romance']}}, {'Your Name.': {'Makoto Shinkai': ['Animation', 'Drama', 'Fantasy']}}, {'Star Wars: Episode VI - Return of the Jedi': {'Richard Marquand': ['Action', 'Adventure', 'Fantasy']}}, {'3 Idiots': {'Rajkumar Hirani': ['Comedy', 'Drama']}}, {'2001: A Space Odyssey': {'Stanley Kubrick': ['Adventure', 'Sci-Fi']}}, {'Reservoir Dogs': {'Quentin Tarantino': ['Crime', 'Drama', 'Thriller']}}, {'Eternal Sunshine of the Spotless Mind': {'Michel Gondry': ['Drama', 'Romance', 'Sci-Fi']}}, {'High and Low': {'Akira Kurosawa': ['Crime', 'Drama', 'Mystery']}}, {'Citizen Kane': {'Orson Welles': ['Drama', 'Mystery']}}, {'Capernaum': {'Nadine Labaki': ['Drama']}}, {'Lawrence of Arabia': {'David Lean': ['Adventure', 'Biography', 'Drama']}}, {'M': {'Fritz Lang': ['Crime', 'Mystery', 'Thriller']}}, {'The Hunt': {'Thomas Vinterberg': ['Drama']}}, {'North by Northwest': {'Alfred Hitchcock': ['Adventure', 'Mystery', 'Thriller']}}, {'Vertigo': {'Alfred Hitchcock': ['Mystery', 'Romance', 'Thriller']}}, {'Amélie': {'Jean-Pierre Jeunet': ['Comedy', 'Romance']}}, {'A Clockwork Orange': {'Stanley Kubrick': ['Crime', 'Sci-Fi']}}, {'Spider-Man: No Way Home': {'Jon Watts': ['Action', 'Adventure', 'Fantasy']}}, {'Come and See': {'Elem Klimov': ['Drama', 'Thriller', 'War']}}, {'Full Metal Jacket': {'Stanley Kubrick': ['Drama', 'War']}}, {'Double Indemnity': {'Billy Wilder': ['Crime', 'Drama', 'Film-Noir']}}, {'The Apartment': {'Billy Wilder': ['Comedy', 'Drama', 'Romance']}}, {'Scarface': {'Brian De Palma': ['Crime', 'Drama']}}, {'Taxi Driver': {'Martin Scorsese': ['Crime', 'Drama']}}, {'To Kill a Mockingbird': {'Robert Mulligan': ['Crime', 'Drama']}}, {'The Sting': {'George Roy Hill': ['Comedy', 'Crime', 'Drama']}}, {'Ikiru': {'Akira Kurosawa': ['Drama']}}, {'Hamilton': {'Thomas Kail': ['Biography', 'Drama', 'History']}}, {'L.A. Confidential': {'Curtis Hanson': ['Crime', 'Drama', 'Mystery']}}, {'Up': {'Pete Docter': ['Animation', 'Adventure', 'Comedy'], 'Bob Peterson': ['Animation', 'Adventure', 'Comedy']}}, {'Heat': {'Michael Mann': ['Action', 'Crime', 'Drama']}}, {'Metropolis': {'Fritz Lang': ['Drama', 'Sci-Fi']}}, {'Snatch': {'Guy Ritchie': ['Comedy', 'Crime']}}, {'A Separation': {'Asghar Farhadi': ['Drama']}}, {'Die Hard': {'John McTiernan': ['Action', 'Thriller']}}, {'Incendies': {'Denis Villeneuve': ['Drama', 'Mystery', 'War']}}, {'Indiana Jones and the Last Crusade': {'Steven Spielberg': ['Action', 'Adventure']}}, {'Bicycle Thieves': {'Vittorio De Sica': ['Drama']}}, {'1917': {'Sam Mendes': ['Action', 'Drama', 'War']}}, {'Like Stars on Earth': {'Aamir Khan': ['Drama', 'Family'], 'Amole Gupte': ['Drama', 'Family']}}, {'Downfall': {'Oliver Hirschbiegel': ['Biography', 'Drama', 'History']}}, {'For a Few Dollars More': {'Sergio Leone': ['Western']}}, {'Batman Begins': {'Christopher Nolan': ['Action', 'Crime', 'Drama']}}, {'Dangal': {'Nitesh Tiwari': ['Action', 'Biography', 'Drama']}}, {'The Kid': {'Charles Chaplin': ['Comedy', 'Drama', 'Family']}}, {'Some Like It Hot': {'Billy Wilder': ['Comedy', 'Music', 'Romance']}}, {'The Father': {'Florian Zeller': ['Drama', 'Mystery']}}, {'All About Eve': {'Joseph L. Mankiewicz': ['Drama']}}, {'Green Book': {'Peter Farrelly': ['Biography', 'Comedy', 'Drama']}}, {'The Wolf of Wall Street': {'Martin Scorsese': ['Biography', 'Comedy', 'Crime']}}, {'Judgment at Nuremberg': {'Stanley Kramer': ['Drama', 'War']}}, {'Unforgiven': {'Clint Eastwood': ['Drama', 'Western']}}, {\"Pan's Labyrinth\": {'Guillermo del Toro': ['Drama', 'Fantasy', 'War']}}, {'Casino': {'Martin Scorsese': ['Crime', 'Drama']}}, {'Ran': {'Akira Kurosawa': ['Action', 'Drama', 'War']}}, {'There Will Be Blood': {'Paul Thomas Anderson': ['Drama']}}, {'Monty Python and the Holy Grail': {'Terry Gilliam': ['Adventure', 'Comedy', 'Fantasy'], 'Terry Jones': ['Adventure', 'Comedy', 'Fantasy']}}, {'A Beautiful Mind': {'Ron Howard': ['Biography', 'Drama']}}, {'The Sixth Sense': {'M. Night Shyamalan': ['Drama', 'Mystery', 'Thriller']}}, {'The Truman Show': {'Peter Weir': ['Comedy', 'Drama']}}, {'Yojimbo': {'Akira Kurosawa': ['Action', 'Drama', 'Thriller']}}, {'The Treasure of the Sierra Madre': {'John Huston': ['Adventure', 'Drama', 'Western']}}, {'Rashomon': {'Akira Kurosawa': ['Crime', 'Drama', 'Mystery']}}, {'The Great Escape': {'John Sturges': ['Adventure', 'Drama', 'History']}}, {'Shutter Island': {'Martin Scorsese': ['Mystery', 'Thriller']}}, {'Kill Bill: Vol. 1': {'Quentin Tarantino': ['Action', 'Crime', 'Drama']}}, {'Jurassic Park': {'Steven Spielberg': ['Action', 'Adventure', 'Sci-Fi']}}, {'No Country for Old Men': {'Ethan Coen': ['Crime', 'Drama', 'Thriller'], 'Joel Coen': ['Crime', 'Drama', 'Thriller']}}, {'The Elephant Man': {'David Lynch': ['Biography', 'Drama']}}, {'Finding Nemo': {'Andrew Stanton': ['Animation', 'Adventure', 'Comedy'], 'Lee Unkrich': ['Animation', 'Adventure', 'Comedy']}}, {'Raging Bull': {'Martin Scorsese': ['Biography', 'Drama', 'Sport']}}, {'Chinatown': {'Roman Polanski': ['Drama', 'Mystery', 'Thriller']}}, {'Gone with the Wind': {'Victor Fleming': ['Drama', 'History', 'Romance'], 'George Cukor': ['Drama', 'History', 'Romance'], 'Sam Wood': ['Drama', 'History', 'Romance']}}, {'V for Vendetta': {'James McTeigue': ['Action', 'Drama', 'Sci-Fi']}}, {'Inside Out': {'Pete Docter': ['Animation', 'Adventure', 'Comedy'], 'Ronnie Del Carmen': ['Animation', 'Adventure', 'Comedy']}}, {'Lock, Stock and Two Smoking Barrels': {'Guy Ritchie': ['Action', 'Comedy', 'Crime']}}, {'The Thing': {'John Carpenter': ['Horror', 'Mystery', 'Sci-Fi']}}, {'Dial M for Murder': {'Alfred Hitchcock': ['Crime', 'Thriller']}}, {'The Secret in Their Eyes': {'Juan José Campanella': ['Drama', 'Mystery', 'Romance']}}, {'The Bridge on the River Kwai': {'David Lean': ['Adventure', 'Drama', 'War']}}, {\"Howl's Moving Castle\": {'Hayao Miyazaki': ['Animation', 'Adventure', 'Family']}}, {'Three Billboards Outside Ebbing, Missouri': {'Martin McDonagh': ['Comedy', 'Crime', 'Drama']}}, {'Trainspotting': {'Danny Boyle': ['Drama']}}, {'Gran Torino': {'Clint Eastwood': ['Drama']}}, {'Warrior': {\"Gavin O'Connor\": ['Action', 'Drama', 'Sport']}}, {'Fargo': {'Joel Coen': ['Crime', 'Thriller'], 'Ethan Coen': ['Crime', 'Thriller']}}, {'My Neighbor Totoro': {'Hayao Miyazaki': ['Animation', 'Comedy', 'Family']}}, {'Prisoners': {'Denis Villeneuve': ['Crime', 'Drama', 'Mystery']}}, {'Million Dollar Baby': {'Clint Eastwood': ['Drama', 'Sport']}}, {'The Gold Rush': {'Charles Chaplin': ['Adventure', 'Comedy', 'Drama']}}, {'Blade Runner': {'Ridley Scott': ['Action', 'Drama', 'Sci-Fi']}}, {'On the Waterfront': {'Elia Kazan': ['Crime', 'Drama', 'Thriller']}}, {'Catch Me If You Can': {'Steven Spielberg': ['Biography', 'Crime', 'Drama']}}, {'The Third Man': {'Carol Reed': ['Film-Noir', 'Mystery', 'Thriller']}}, {'Children of Heaven': {'Majid Majidi': ['Drama', 'Family', 'Sport']}}, {'Ben-Hur': {'William Wyler': ['Adventure', 'Drama', 'History']}}, {'The General': {'Clyde Bruckman': ['Action', 'Adventure', 'Comedy'], 'Buster Keaton': ['Action', 'Adventure', 'Comedy']}}, {'12 Years a Slave': {'Steve McQueen': ['Biography', 'Drama', 'History']}}, {'Wild Strawberries': {'Ingmar Bergman': ['Drama', 'Romance']}}, {'Gone Girl': {'David Fincher': ['Drama', 'Mystery', 'Thriller']}}, {'The Deer Hunter': {'Michael Cimino': ['Drama', 'War']}}, {'Before Sunrise': {'Richard Linklater': ['Drama', 'Romance']}}, {'Harry Potter and the Deathly Hallows: Part 2': {'David Yates': ['Adventure', 'Fantasy', 'Mystery']}}, {'In the Name of the Father': {'Jim Sheridan': ['Biography', 'Crime', 'Drama']}}, {'Mr. Smith Goes to Washington': {'Frank Capra': ['Comedy', 'Drama']}}, {'The Grand Budapest Hotel': {'Wes Anderson': ['Adventure', 'Comedy', 'Crime']}}, {'The Wages of Fear': {'Henri-Georges Clouzot': ['Adventure', 'Drama', 'Thriller']}}, {'Sherlock Jr.': {'Buster Keaton': ['Action', 'Comedy', 'Romance']}}, {'Room': {'Lenny Abrahamson': ['Drama', 'Thriller']}}, {'Barry Lyndon': {'Stanley Kubrick': ['Adventure', 'Drama', 'War']}}, {'Memories of Murder': {'Bong Joon Ho': ['Crime', 'Drama', 'Mystery']}}, {'The Seventh Seal': {'Ingmar Bergman': ['Drama', 'Fantasy']}}, {'Hacksaw Ridge': {'Mel Gibson': ['Biography', 'Drama', 'History']}}, {'Klaus': {'Sergio Pablos': ['Animation', 'Adventure', 'Comedy'], 'Carlos Martínez López': ['Animation', 'Adventure', 'Comedy']}}, {'Wild Tales': {'Damián Szifron': ['Comedy', 'Drama', 'Thriller']}}, {'The Big Lebowski': {'Joel Coen': ['Comedy', 'Crime'], 'Ethan Coen': ['Comedy', 'Crime']}}, {'How to Train Your Dragon': {'Dean DeBlois': ['Animation', 'Action', 'Adventure'], 'Chris Sanders': ['Animation', 'Action', 'Adventure']}}, {'Mad Max: Fury Road': {'George Miller': ['Action', 'Adventure', 'Sci-Fi']}}, {'Mary and Max': {'Adam Elliot': ['Animation', 'Comedy', 'Drama']}}, {'Pather Panchali': {'Satyajit Ray': ['Drama']}}, {'Monsters, Inc.': {'Pete Docter': ['Animation', 'Adventure', 'Comedy'], 'David Silverman': ['Animation', 'Adventure', 'Comedy'], 'Lee Unkrich': ['Animation', 'Adventure', 'Comedy']}}, {'Jaws': {'Steven Spielberg': ['Adventure', 'Thriller']}}, {'The Passion of Joan of Arc': {'Carl Theodor Dreyer': ['Biography', 'Drama', 'History']}}, {'Hotel Rwanda': {'Terry George': ['Biography', 'Drama', 'History']}}, {'Tokyo Story': {'Yasujirô Ozu': ['Drama']}}, {'Dead Poets Society': {'Peter Weir': ['Comedy', 'Drama']}}, {'Platoon': {'Oliver Stone': ['Drama', 'War']}}, {'Rocky': {'John G. Avildsen': ['Drama', 'Sport']}}, {'Ford v Ferrari': {'James Mangold': ['Action', 'Biography', 'Drama']}}, {'Stand by Me': {'Rob Reiner': ['Adventure', 'Drama']}}, {'The Terminator': {'James Cameron': ['Action', 'Sci-Fi']}}, {'Rush': {'Ron Howard': ['Action', 'Biography', 'Drama']}}, {'Spotlight': {'Tom McCarthy': ['Biography', 'Crime', 'Drama']}}, {'Into the Wild': {'Sean Penn': ['Adventure', 'Biography', 'Drama']}}, {'Network': {'Sidney Lumet': ['Drama']}}, {'The Wizard of Oz': {'Victor Fleming': ['Adventure', 'Family', 'Fantasy'], 'George Cukor': ['Adventure', 'Family', 'Fantasy'], 'Mervyn LeRoy': ['Adventure', 'Family', 'Fantasy']}}, {'Logan': {'James Mangold': ['Action', 'Drama', 'Sci-Fi']}}, {'Groundhog Day': {'Harold Ramis': ['Comedy', 'Drama', 'Fantasy']}}, {'Ratatouille': {'Brad Bird': ['Animation', 'Adventure', 'Comedy'], 'Jan Pinkava': ['Animation', 'Adventure', 'Comedy']}}, {'The Exorcist': {'William Friedkin': ['Horror']}}, {'Before Sunset': {'Richard Linklater': ['Drama', 'Romance']}}, {'The Best Years of Our Lives': {'William Wyler': ['Drama', 'Romance', 'War']}}, {'The Incredibles': {'Brad Bird': ['Animation', 'Action', 'Adventure']}}, {'To Be or Not to Be': {'Ernst Lubitsch': ['Comedy', 'Romance', 'War']}}, {'The Battle of Algiers': {'Gillo Pontecorvo': ['Drama', 'War']}}, {'Rebecca': {'Alfred Hitchcock': ['Drama', 'Film-Noir', 'Mystery']}}, {'The Grapes of Wrath': {'John Ford': ['Drama']}}, {\"Hachi: A Dog's Tale\": {'Lasse Hallström': ['Biography', 'Drama', 'Family']}}, {'Cool Hand Luke': {'Stuart Rosenberg': ['Crime', 'Drama']}}, {'Amores perros': {'Alejandro G. Iñárritu': ['Drama', 'Thriller']}}, {'Dersu Uzala': {'Akira Kurosawa': ['Adventure', 'Biography', 'Drama']}}, {'The 400 Blows': {'François Truffaut': ['Crime', 'Drama']}}, {'My Father and My Son': {'Cagan Irmak': ['Drama', 'Family']}}, {'Persona': {'Ingmar Bergman': ['Drama', 'Thriller']}}, {'Pirates of the Caribbean: The Curse of the Black Pearl': {'Gore Verbinski': ['Action', 'Adventure', 'Fantasy']}}, {'Life of Brian': {'Terry Jones': ['Comedy']}}, {'La Haine': {'Mathieu Kassovitz': ['Crime', 'Drama']}}, {'The Sound of Music': {'Robert Wise': ['Biography', 'Drama', 'Family']}}, {'It Happened One Night': {'Frank Capra': ['Comedy', 'Romance']}}, {'The Handmaiden': {'Park Chan-wook': ['Drama', 'Romance', 'Thriller']}}, {'Gandhi': {'Richard Attenborough': ['Biography', 'Drama']}}, {'Aladdin': {'Ron Clements': ['Animation', 'Adventure', 'Comedy'], 'John Musker': ['Animation', 'Adventure', 'Comedy']}}, {'The Help': {'Tate Taylor': ['Drama']}}, {'Beauty and the Beast': {'Gary Trousdale': ['Animation', 'Family', 'Fantasy'], 'Kirk Wise': ['Animation', 'Family', 'Fantasy']}}, {'Dances with Wolves': {'Kevin Costner': ['Adventure', 'Drama', 'Western']}}, {'Rififi': {'Jules Dassin': ['Crime', 'Drama', 'Thriller']}}]\n"
          ]
        }
      ],
      "source": [
        "#using regex to clean data and time to make the program take breaks\n",
        "import re\n",
        "import time\n",
        "\n",
        "try:\n",
        "  #dirDict dictionary to store director's bio, dob and dop (for bonus question)\n",
        "  #all_movies list stores the top 250 movies, their director and genres\n",
        "  dirDict = {}\n",
        "  all_movies = []\n",
        "  for movie_link in movie_links:\n",
        "\n",
        "      #the object soup will be used to find the required data from the parsed html of the website\n",
        "      page = requests.get(movie_link, headers = headers)\n",
        "      soup = BeautifulSoup(page.content, \"html.parser\")\n",
        "\n",
        "      title_row = soup.find('h1')\n",
        "      title = title_row.get_text()\n",
        "\n",
        "      #genres list will store all the genres of a movie\n",
        "      #sub_dic will store the director's name as key and genres list as the value\n",
        "      #movie_dic will store the movie name as key and sub_dic as the value\n",
        "      genres = []\n",
        "      sub_dic = {}\n",
        "      movie_dic = {}\n",
        "\n",
        "      #this block of code scrapes the information of genre\n",
        "      #for the genre with differen class, a separate if case is used\n",
        "      genre_row = soup.find('div', attrs = {'class' : 'ipc-chip-list sc-16ede01-4 bMBIRz', 'data-testid' : 'genres'})\n",
        "      if(genre_row == None):\n",
        "        genre_row = soup.find('div', attrs = {'class' : 'ipc-chip-list sc-16ede01-5 ggbGKe', 'data-testid' : 'genres'})\n",
        "      genre_tags = genre_row.find_all('ul')\n",
        "\n",
        "      #the ul tags for all genres stored in the list are iterated one by one\n",
        "      #the actual genre name is extracted using get_text() and appended to genres list\n",
        "      for i in genre_tags:\n",
        "          genre = i.get_text()\n",
        "          genres.append(genre)\n",
        "\n",
        "      #this block of code scrapes the directors information from the html\n",
        "      director_block = soup.find('li', attrs = {'class' : 'ipc-metadata-list__item', 'data-testid' : 'title-pc-principal-credit'})\n",
        "      dir_list = director_block.find_all('a', class_ = 'ipc-metadata-list-item__list-content-item ipc-metadata-list-item__list-content-item--link')\n",
        "\n",
        "      #for the movies with multiple directors, we iterate through each directors anchor tags in dir_list\n",
        "      #the genres list populated above is stores as a value i sub_dict with key as director's name\n",
        "      if len(dir_list) != 0:\n",
        "        for d in dir_list:\n",
        "          if d:\n",
        "            sub_dic[d.get_text()] = genres\n",
        "\n",
        "            #this is a part of the bonus question\n",
        "            #each distinct director's info is stored in dir_dict\n",
        "            #the link for director's bio page is scraped and information if extracted\n",
        "            if d.get_text() not in dirDict:\n",
        "              bioLink = d.get('href')\n",
        "              bioLink = 'https://www.imdb.com' +bioLink\n",
        "              dirPage = requests.get(bioLink, headers = headers)\n",
        "              dirSoup = BeautifulSoup(dirPage.content, \"html.parser\")\n",
        "\n",
        "              seeMoreLink = dirSoup.find('span', class_='see-more inline nobr-only')\n",
        "\n",
        "              if seeMoreLink:\n",
        "                seeMoreLink = seeMoreLink.find('a')\n",
        "                fullBioLink = seeMoreLink.get('href')\n",
        "                fullBioLink = 'https://www.imdb.com' +fullBioLink\n",
        "                dirBioPage = requests.get(fullBioLink, headers = headers)\n",
        "                dirBioSoup = BeautifulSoup(dirBioPage.content, \"html.parser\")\n",
        "\n",
        "                #the dir_subDict stores director's bio, dob and dop\n",
        "                #dir_subDict is passed as a value to the dirDict with director's name as the key\n",
        "                dir_subDict = {}\n",
        "\n",
        "                bio = dirBioSoup.find('div', class_='soda odd')\n",
        "                if bio:\n",
        "                  bioStr = bio.get_text()\n",
        "                  bioStr = bioStr.strip()\n",
        "                  bioStr = re.sub('\\n', '', bioStr)\n",
        "                  dir_subDict['bio'] = bioStr\n",
        "\n",
        "                born = dirBioSoup.find('tr', class_='even')\n",
        "                if born:\n",
        "                  dob = born.find_all('a')\n",
        "                  if len(dob) == 3:\n",
        "                    dir_subDict['dob'] = dob[0].get_text()+ ', ' +dob[1].get_text()\n",
        "                    dir_subDict['place'] = dob[2].get_text()\n",
        "                  elif len(dob) == 2:\n",
        "                    dir_subDict['dob'] = dob[0].get_text()\n",
        "                    dir_subDict['place'] = dob[1].get_text()\n",
        "                  elif len(dob) == 1:\n",
        "                    dir_subDict['dob'] = dob[0].get_text()\n",
        "                  \n",
        "                if len(dir_subDict) != 0:\n",
        "                  dirDict[d.get_text()] = dir_subDict\n",
        "\n",
        "      movie_dic[title] = sub_dic\n",
        "      all_movies.append(movie_dic)\n",
        "      time.sleep(1)\n",
        "\n",
        "  print(all_movies)\n",
        "\n",
        "except ValueError:\n",
        "    print('Something went wrong! Please try again.')"
      ]
    },
    {
      "cell_type": "markdown",
      "source": [
        "The code below stores all the data from all_movies list into a CSV named 'SanjivniRana_movies.csv'. For this csv library is imported and used. The object of csv.writer writes each row into the CSV. This is done by iterating through each element of all_movies list using for-loop and then further iterating the dict and sub dict to append values in the right manner. At the end of each loop, writer.writerow appends each movie with its director and genre into each row in the corresponsing order."
      ],
      "metadata": {
        "id": "FZbmhVR694Sb"
      }
    },
    {
      "cell_type": "code",
      "execution_count": null,
      "metadata": {
        "id": "w5P_rkQajRws"
      },
      "outputs": [],
      "source": [
        "#this block of code stores the list of movies dictionary into a csv\n",
        "#for loop is used to iterate over the list, dictionary and the sub-dictionary\n",
        "#first row is the title and then values are inserted\n",
        "import csv\n",
        "\n",
        "try:\n",
        "  with open('SanjivniRana_movies.csv', 'w') as f:\n",
        "      writer = csv.writer(f,)\n",
        "      writer.writerow(['S.No.','Movie Name','Director','Genre'])\n",
        "      count = 1\n",
        "      for movie in all_movies:\n",
        "        col1 = ''\n",
        "        for movieKey,subDict in movie.items():\n",
        "          col1 = movieKey\n",
        "          col2 = ''\n",
        "          for dirKey,genreVal in subDict.items():\n",
        "            col2 = col2 + dirKey + ', '\n",
        "            col3 = ''\n",
        "            if col3 == '':\n",
        "              for gen in list(genreVal):\n",
        "                if col3 == '':\n",
        "                  col3 = gen\n",
        "                else:\n",
        "                  col3 = col3 + ', ' + gen \n",
        "          col2 = col2[0:-2]\n",
        "        writer.writerow([count,col1,col2,col3])\n",
        "        count = count+1\n",
        "\n",
        "except ValueError:\n",
        "    print('Something went wrong! Please try again.')"
      ]
    },
    {
      "cell_type": "markdown",
      "source": [
        "The code below contains three functions handleUpperLowerCase(), fetchMovieDetails() and fetchDirMoviesAndGenreCount(). The first function simply handles lower and upper casing of the input. The second function takes movie name as the parameter which is input by the user. Just like before, for-loop is used to iterate over each dictionary in the list and each sub dictionary in each dictionary to match the movie name and extract the required information. The method used to iterate over a sub-dict is for movieKey,subDict in movie.items(). The third function works in the similar way but takes director name as the parameter instead.\n"
      ],
      "metadata": {
        "id": "0fRzWc5R-rOp"
      }
    },
    {
      "cell_type": "code",
      "execution_count": null,
      "metadata": {
        "id": "kNxomxH7k5PJ"
      },
      "outputs": [],
      "source": [
        "#this block contains functions which are used in the code below\n",
        "#kindly run this before running the main code\n",
        "\n",
        "#code to handle upper and lower casing\n",
        "def handleUpperLowerCase(string):\n",
        "\n",
        "  try:\n",
        "    lowerStr = ''\n",
        "    for ch in string:\n",
        "      if ch.isalpha():\n",
        "        ch = ch.lower()\n",
        "        lowerStr = lowerStr + ch\n",
        "      else:\n",
        "        lowerStr = lowerStr + ch\n",
        "    return lowerStr\n",
        "    \n",
        "  except ValueError:\n",
        "    print('Something went wrong! Please try again.')\n",
        "\n",
        "#this function is used for option 1 which finds movie's information\n",
        "#nested for-loop is used to iterate over the list, dictionary and the sub-dictionary\n",
        "#if-else is used to for various null-checks\n",
        "#for-loop iterates over each dictionary in the list and each subdictionary in the dictionary to match the input provided by the user\n",
        "#if the string matches then the required information is extracted into a new variable and displayed to the user\n",
        "def fetchMovieDetails(movieName):\n",
        "\n",
        "  try:\n",
        "    movieDir = ''\n",
        "    movieGenres = ''\n",
        "    for movie in all_movies:\n",
        "      for movieKey,subDict in movie.items():\n",
        "        movieKey = handleUpperLowerCase(movieKey)\n",
        "        if movieKey == movieName:\n",
        "          for dirKey,genreVal in subDict.items():\n",
        "            if movieDir == '':\n",
        "                movieDir = dirKey\n",
        "            else:\n",
        "                movieDir = movieDir + ', ' + dirKey\n",
        "            if(movieGenres == ''):\n",
        "              for gen in list(genreVal):\n",
        "                if movieGenres == '':\n",
        "                  movieGenres = gen\n",
        "                else:\n",
        "                  movieGenres = movieGenres + ', ' + gen\n",
        "    print('  ')\n",
        "    if movieDir and movieGenres:\n",
        "      print('The director of the movie is',movieDir)\n",
        "      print('The genre of the movie is',movieGenres)\n",
        "    else:\n",
        "      print('The information about',movieName,'is not in our data. Please try again.')\n",
        "\n",
        "  except ValueError:\n",
        "    print('Something went wrong! Please try again.')\n",
        "\n",
        "#this function is used for option 2 and 3 which finds director's information stores in sub-dictionary\n",
        "#nested for-loop is used to iterate over the list, dictionary and the sub-dictionary\n",
        "#if-else is used to for various null-checks\n",
        "#for-loop iterates over each dictionary in the list and each subdictionary in the dictionary to match the input provided by the user\n",
        "#if the string matches then the required information is extracted into a new variable and displayed to the user\n",
        "def fetchDirMoviesAndGenreCount(director):\n",
        "\n",
        "  try:\n",
        "    dir = ''\n",
        "    dirMovies = ''\n",
        "    dirGenCount = ''\n",
        "    dirGenreDict = dict()\n",
        "    for movie in all_movies:\n",
        "      for movieKey,subDict in movie.items():\n",
        "        for dirKey,genreVal in subDict.items():\n",
        "          if dirKey.lower() == director.lower():\n",
        "            dir = dirKey;\n",
        "            if dirMovies == '':\n",
        "                dirMovies = movieKey\n",
        "            else:\n",
        "                dirMovies = dirMovies + ', ' + movieKey\n",
        "\n",
        "            for gen in list(genreVal):\n",
        "              dirGenreDict[gen]= dirGenreDict.get(gen, 0) + 1\n",
        "\n",
        "            dirGenCount = 'His most directed genres are '\n",
        "            for gen,count in dirGenreDict.items():\n",
        "              dirGenCount = dirGenCount + gen + ':' + str(count) + ', '\n",
        "            dirGenCount = dirGenCount[0:-2] + '.'\n",
        "\n",
        "    print(' ')\n",
        "    if len(dirGenreDict) != 0:\n",
        "      print(dir,'has directed',dirMovies)\n",
        "      print(dirGenCount)\n",
        "    else:\n",
        "      print('The information about',director,'is not in our data. Please try again.')\n",
        "    return dirGenreDict\n",
        "\n",
        "  except ValueError:\n",
        "    print('Something went wrong! Please try again.')"
      ]
    },
    {
      "cell_type": "markdown",
      "source": [
        "The code below checks the option chosen by the user. We have used if condition for this. It then enters one of the if blocks and calls the function specified above to extract the required information from all_movies list.\n",
        "For the third option, we call the function to get the genreDict and then form genre count vector from it. This is done through for-loop iteration and if-else checking. Each genre key is matched in both the dictionaries and their corresponding count is set in the vector, if not present then the vector value is assigned as 0. This vector is then used to calculate the cosine similarity."
      ],
      "metadata": {
        "id": "qZvXKkIn_z8p"
      }
    },
    {
      "cell_type": "code",
      "execution_count": null,
      "metadata": {
        "colab": {
          "base_uri": "https://localhost:8080/"
        },
        "id": "Ojkb_S4UlYKS",
        "outputId": "a233b76f-d394-4475-ac33-d7961a3e7566"
      },
      "outputs": [
        {
          "output_type": "stream",
          "name": "stdout",
          "text": [
            "What do you want to check on IMDB? (Please choose ‘movie’, ‘director’, or ‘comparison’): movie\n",
            "What movie do you want to check?: Avengers: Infinity WAR\n",
            "  \n",
            "The director of the movie is Anthony Russo, Joe Russo\n",
            "The genre of the movie is Action, Adventure, Sci-Fi\n"
          ]
        }
      ],
      "source": [
        "#math library is imported to use the square root function to calculate cosine similarity\n",
        "import math\n",
        "\n",
        "option = input('What do you want to check on IMDB? (Please choose ‘movie’, ‘director’, or ‘comparison’): ')\n",
        "\n",
        "try:\n",
        "  option = option.lower()\n",
        "\n",
        "  #each if block is specified for each option chosen by the user\n",
        "  #the input is sent to the functions declared above to find the information through nested loops\n",
        "  if option == 'movie':\n",
        "    movie = input('What movie do you want to check?: ')\n",
        "    movieName = handleUpperLowerCase(movie)\n",
        "    fetchMovieDetails(movieName)\n",
        "\n",
        "  elif option == 'director':\n",
        "    director = input('Who do you want to check?: ')\n",
        "    fetchDirMoviesAndGenreCount(director)\n",
        "\n",
        "  elif option == 'comparision':\n",
        "    print('Who do you want to compare?')\n",
        "    print('  ')\n",
        "    dir1 = input('input 1: ')\n",
        "    dir2 = input('input 2: ')\n",
        "\n",
        "    dir1genDict = dict()\n",
        "    dir2genDict = dict()\n",
        "    dir1genDict = fetchDirMoviesAndGenreCount(dir1)\n",
        "    dir2genDict = fetchDirMoviesAndGenreCount(dir2)\n",
        "\n",
        "    #this block of code forms the vectors of two chosen directors\n",
        "    #once genre dictionary is passed from the above function, vector is created using the count\n",
        "    #this is done using for-loop iteration in each dictionary and checking the key-value content\n",
        "    if len(dir1genDict) != 0 and len(dir2genDict) != 0:\n",
        "\n",
        "      dir1genVector = tuple()\n",
        "      dir2genVector = tuple()\n",
        "\n",
        "      for gen in dir1genDict:\n",
        "        if gen in dir2genDict:\n",
        "          dir1genVector = dir1genVector + (dir1genDict[gen],)\n",
        "          dir2genVector = dir2genVector + (dir2genDict[gen],)\n",
        "        else:\n",
        "          dir1genVector = dir1genVector + (dir1genDict[gen],)\n",
        "          dir2genVector = dir2genVector + (0,)\n",
        "\n",
        "      for gen in dir2genDict:\n",
        "        if gen not in dir1genDict:\n",
        "          dir2genVector = dir2genVector + (dir2genDict[gen],)\n",
        "          dir1genVector = dir1genVector + (0,)\n",
        "        \n",
        "      cosine = 0\n",
        "      lengthX = 0\n",
        "      lengthY = 0\n",
        "      vectorProduct = 0\n",
        "\n",
        "      #this block of code calculates cosine similarity\n",
        "      #it takes two vectors created above and calculates using for-loop iteration\n",
        "      for i in range(len(dir1genVector)):\n",
        "        vectorProduct = vectorProduct + (dir1genVector[i]*dir2genVector[i])\n",
        "        lengthX = lengthX + (dir1genVector[i]**2)\n",
        "        lengthY = lengthY + (dir2genVector[i]**2)\n",
        "      lengthX = math.sqrt(lengthX)\n",
        "      lengthY = math.sqrt(lengthY)\n",
        "\n",
        "      if lengthX*lengthY != 0:\n",
        "        cosine = vectorProduct/(lengthX*lengthY)\n",
        "\n",
        "      print(' ')\n",
        "      print('Based on that, they have a cosine similarity score of',round(cosine,2))\n",
        "\n",
        "    else:\n",
        "      print(' ')\n",
        "      print('Since the director is not in our data. Cosine cannot be calculated.')\n",
        "\n",
        "  else:\n",
        "    print(' ')\n",
        "    print('Please input a valid choice!')\n",
        "\n",
        "except ValueError:\n",
        "  print('Something went wrong! Please try again.')"
      ]
    },
    {
      "cell_type": "markdown",
      "source": [
        "# **BONUS QUESTION**"
      ],
      "metadata": {
        "id": "S5jmPikx57Pl"
      }
    },
    {
      "cell_type": "markdown",
      "source": [
        "The code below executes the bonus part of the project, i.e. display selected movie's directors bio, dob and place of birth. As specified above we have stored this information in a dictionary of dictionary named dirDict while scraping and storing information in all_movies. The structure of dirDict is : {DirectorName: {Bio:Value},{DOB:Value},{Place:Value}}. The movie name input by the user is searched in the all_movies list of dictionaries, if found then its director's name is searched in the dirDict dictionary and the details are displayed to the user."
      ],
      "metadata": {
        "id": "Mod5UVvGAluk"
      }
    },
    {
      "cell_type": "code",
      "execution_count": null,
      "metadata": {
        "colab": {
          "base_uri": "https://localhost:8080/"
        },
        "id": "sVvd4ET3y9VR",
        "outputId": "3da7c527-4f07-4775-b509-4c45b974bc30"
      },
      "outputs": [
        {
          "output_type": "stream",
          "name": "stdout",
          "text": [
            "Which movie do you wish to choose?: FINDING nemo\n",
            "What do you wish to see about this movie?: director\n",
            " \n",
            "The director of Finding Nemo is Andrew Stanton\n",
            "Andrew Stanton is born on December 3, 1965\n",
            "Andrew Stanton is born in Boston, Massachusetts, USA\n",
            "Andrew Stanton has been a major creative force at Pixar Animation Studios since 1990, when he became the second animator and ninth employee to join the company's elite group of computer animation pioneers. As Vice President, Creative he currently oversees all shorts and feature projects at the studio. Stanton wrote and directed the Academy Award®-winning Disney and Pixar feature film \"WALL.E,\" for which he also received a Best Original Screenplay Oscar®-nomination. In 2016 Stanton directed Disney and Pixar's \"Finding Dory,\" which, upon release, became the highest-grossing domestic animated feature of all time and in 2019 Stanton served as screenwriter and executive producer of \"Toy Story 4.\"Stanton made his directorial debut with the record-shattering \"Finding Nemo,\" an original story of his that he also co-wrote. The film garnered Stanton two Academy Award® nominations (Best Original Screenplay and Best Animated Film), and \"Finding Nemo\" was awarded an Oscar® for Best Animated Feature Film of 2003, the first such honor Pixar Animation Studios received for a full-length feature film.One of the four screenwriters to receive an Oscar® nomination in 1996 for his contribution to \"Toy Story,\" Stanton went on to receive credit as a screenwriter on every subsequent Pixar film - \"A Bug's Life,\" \"Toy Story 2,\" \"Monsters, Inc.\" and \"Finding Nemo.\" Additionally, he served as co-director on \"A Bug's Life,\" and was the executive producer of \"Monsters, Inc.,\" and \"Monsters University,\" and Academy Award®-winning films \"Ratatouille\" and \"Brave.\"In addition to his multi-award winning animation work, Stanton made his live-action writing and directorial debut with Disney's \"John Carter,\" released in March 2012.A native of Rockport, Massachusetts, Stanton earned a Bachelor of Fine Arts in Character Animation from California Institute of the Arts (Cal Arts), where he completed two student films. In the 1980s, he launched his professional career in Los Angeles animating for Bill Kroyer's Kroyer Films studio, and writing for Ralph Bakshi's production of \"Mighty Mouse, The New Adventures\" (1987).- IMDb Mini Biography By:                       Pixar Official site\n",
            " \n",
            "The director of Finding Nemo is Lee Unkrich\n",
            "Lee Unkrich is born on August 8, 1967\n",
            "Lee Unkrich is born in Cleveland, Ohio, USA\n",
            "Lee Unkrich is an Academy Award-winning director at Pixar Animation Studios. He most recently directed Disney.Pixar's critically-acclaimed \"Coco\", which received the Academy Award for Best Animated Feature and Best Song.As the director of Disney.Pixar's \"Toy Story 3,\" Lee was also awarded an Academy Award for Best Animated Feature.Lee joined Pixar in 1994, and has played a variety of key creative roles on nearly every animated feature film made at the studio. Before co-directing the Oscar-winning \"Finding Nemo,\" he was co-director of \"Monsters, Inc.\" and the Golden Globe-winning \"Toy Story 2.\"He began his Pixar career as a film editor on \"Toy Story\" and was supervising film editor on \"A Bug's Life.\" Lee also contributed his editing skills to numerous Pixar films, including his role as supervising film editor on \"Finding Nemo\".In 2009 Lee and his fellow directors at Pixar were honored at the 66th Venice International Film Festival with the Golden Lion for Lifetime Achievement.Prior to joining Pixar, Lee worked in television as an editor and director. He graduated from the University of Southern California's School of Cinema/Television in 1991.He grew up in Chagrin Falls, Ohio.- IMDb Mini Biography By:                       Anonymous\n"
          ]
        }
      ],
      "source": [
        "#this block of code displays the chosen director's information\n",
        "#nested for-loop is used to iterate over the list, dictionary and the sub-dictionary\n",
        "#if-else is used to for various null-checks\n",
        "#each of the information i.e. bio, dob and place are stored as key-values in the subdictionary with director name as the key\n",
        "#for-loop iterates over each dictionary in the list and each subdictionary in the dictionary to match the input provided by the user\n",
        "#if the string matches then the required information is extracted into a new variable and displayed to the user\n",
        "movieName = input('Which movie do you wish to choose?: ')\n",
        "option = input('What do you wish to see about this movie?: ')\n",
        "\n",
        "try:\n",
        "  movieName = handleUpperLowerCase(movieName)\n",
        "\n",
        "  isPresent = 0\n",
        "  if option.lower() == 'director':\n",
        "    for movie in all_movies:\n",
        "      for movieKey,subDict in movie.items():\n",
        "        movieKeyLower = handleUpperLowerCase(movieKey)\n",
        "        if movieKeyLower == movieName:\n",
        "          isPresent = 1\n",
        "          for dirKey,genreVal in subDict.items():\n",
        "            print(' ')\n",
        "            print('The director of',movieKey,'is',dirKey)\n",
        "            if dirKey in dirDict:\n",
        "              if len(dirDict[dirKey]) == 3 or len(dirDict[dirKey]) == 2:\n",
        "                bio = list(dirDict[dirKey].values())[0]\n",
        "                dob = list(dirDict[dirKey].values())[1]\n",
        "                place = list(dirDict[dirKey].values())[2]\n",
        "                print(dirKey,'is born on',dob)\n",
        "                print(dirKey,'is born in',place)\n",
        "                print(bio)\n",
        "              if len(dirDict[dirKey]) == 1:\n",
        "                print(dirKey,'is born on',dob)\n",
        "                print('The directors place of birth is not specified on the site.')\n",
        "                print(bio)\n",
        "\n",
        "    if isPresent == 0:\n",
        "      print(' ')\n",
        "      print('The information on',movieName,'is not in our data. Please try again.')\n",
        "\n",
        "  else:\n",
        "    print(' ')\n",
        "    print('Please input a valid choice!')\n",
        "\n",
        "except ValueError:\n",
        "  print('Something went wrong! Please try again.')"
      ]
    }
  ],
  "metadata": {
    "colab": {
      "collapsed_sections": [],
      "name": "SanjivniRana_FinalProject.ipynb",
      "provenance": []
    },
    "kernelspec": {
      "display_name": "Python 3",
      "name": "python3"
    },
    "language_info": {
      "name": "python"
    }
  },
  "nbformat": 4,
  "nbformat_minor": 0
}